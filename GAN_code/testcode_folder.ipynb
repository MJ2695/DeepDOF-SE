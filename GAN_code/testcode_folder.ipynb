{
 "cells": [
  {
   "cell_type": "code",
   "execution_count": null,
   "metadata": {},
   "outputs": [],
   "source": [
    "import tensorflow as tf\n",
    "\n",
    "import tensorflow_datasets as tfds\n",
    "from tensorflow_examples.models.pix2pix import pix2pix\n",
    "\n",
    "import os\n",
    "import time\n",
    "import matplotlib.pyplot as plt\n",
    "from IPython.display import clear_output\n",
    "import numpy as np\n",
    "import pathlib\n",
    "import cv2\n",
    "import resnet_network\n",
    "import image_preprocess\n",
    "\n",
    "AUTOTUNE = tf.data.AUTOTUNE"
   ]
  },
  {
   "cell_type": "code",
   "execution_count": null,
   "metadata": {},
   "outputs": [],
   "source": [
    "OUTPUT_CHANNELS = 3\n",
    "\n",
    "generator_g_new = resnet_network.build_generator_resnet_9blocks(skip=False)\n",
    "generator_f_new = resnet_network.build_generator_resnet_9blocks(skip=False)\n",
    "\n",
    "discriminator_x = pix2pix.discriminator(norm_type='instancenorm', target=False)\n",
    "discriminator_y = pix2pix.discriminator(norm_type='instancenorm', target=False)\n",
    "\n",
    "generator_g_optimizer = tf.keras.optimizers.Adam(2e-4, beta_1=0.5)\n",
    "generator_f_optimizer = tf.keras.optimizers.Adam(2e-4, beta_1=0.5)\n",
    "\n",
    "discriminator_x_optimizer = tf.keras.optimizers.Adam(2e-4, beta_1=0.5)\n",
    "discriminator_y_optimizer = tf.keras.optimizers.Adam(2e-4, beta_1=0.5)"
   ]
  },
  {
   "cell_type": "code",
   "execution_count": null,
   "metadata": {},
   "outputs": [],
   "source": [
    "checkpoint_path = 'directory_for_loading_checkpoints'\n",
    "\n",
    "latest = tf.train.latest_checkpoint(checkpoint_dir=checkpoint_path)\n",
    "\n",
    "ckpt = tf.train.Checkpoint(generator_f = generator_f_new,\n",
    "                           generator_g = generator_g_new,\n",
    "                           discriminator_x = discriminator_x,\n",
    "                           discriminator_y = discriminator_y,\n",
    "                           generator_f_optimizer = generator_f_optimizer,\n",
    "                           generator_g_optimizer = generator_g_optimizer,\n",
    "                           discriminator_x_optimizer = discriminator_x_optimizer,\n",
    "                           discriminator_y_optimizer = discriminator_y_optimizer)\n",
    "\n",
    "if latest:\n",
    "    print(f'Loading from latest checkpoint: {latest}')\n",
    "    ckpt.restore(latest)\n",
    "else:\n",
    "    print('No checkpoint found')"
   ]
  },
  {
   "cell_type": "code",
   "execution_count": null,
   "metadata": {},
   "outputs": [],
   "source": [
    "test_file_dir = pathlib.Path(r'data_directory')\n",
    "\n",
    "test_files = tf.data.Dataset.list_files(str(test_file_dir/'*.png'), shuffle=False)\n",
    "test_images = tf.data.Dataset.map(test_files, image_preprocess.load_image).cache()\n",
    "img_num = len(test_files)\n",
    "\n",
    "for index, image in test_images.enumerate():\n",
    "    clear_output(wait=True)\n",
    "    print(f'current processing: {index+1} out of {len(test_images)} images')\n",
    "    plt.imshow(image.numpy().astype('float32'))\n",
    "    fake_image = generator_g_new(image[tf.newaxis,...], training=False)[0]\n",
    "    cv2.imwrite(str(test_file_dir/f'{1+index:03}.bmp'), cv2.cvtColor((fake_image.numpy()+1)*127.5, cv2.COLOR_BGR2RGB))"
   ]
  }
 ],
 "metadata": {
  "interpreter": {
   "hash": "c631db9097f65b7be12866a4e1707f1d2f896104c450bb1f031ce21d398d87ed"
  },
  "kernelspec": {
   "display_name": "Python 3.10.4 ('tf2')",
   "language": "python",
   "name": "python3"
  },
  "language_info": {
   "codemirror_mode": {
    "name": "ipython",
    "version": 3
   },
   "file_extension": ".py",
   "mimetype": "text/x-python",
   "name": "python",
   "nbconvert_exporter": "python",
   "pygments_lexer": "ipython3",
   "version": "3.10.4"
  },
  "orig_nbformat": 4
 },
 "nbformat": 4,
 "nbformat_minor": 2
}
